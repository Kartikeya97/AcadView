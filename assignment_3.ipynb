{
 "cells": [
  {
   "cell_type": "code",
   "execution_count": 3,
   "metadata": {},
   "outputs": [
    {
     "name": "stdout",
     "output_type": "stream",
     "text": [
      "0.0303030303030303\n"
     ]
    }
   ],
   "source": [
    "# Question 1\n",
    "def prob(PA,PB,PAB):\n",
    "    CP=(PAB*PB)/PA\n",
    "    print(CP)\n",
    "\n",
    "PA=11/36\n",
    "PB=6/36\n",
    "PAB=2/36\n",
    "prob(PA,PB,PAB)    "
   ]
  },
  {
   "cell_type": "code",
   "execution_count": 4,
   "metadata": {},
   "outputs": [
    {
     "name": "stdout",
     "output_type": "stream",
     "text": [
      "0.5833333333333334\n"
     ]
    }
   ],
   "source": [
    "# Question 2\n",
    "PE1=1/2\n",
    "PE2=1/2\n",
    "PAE1=3/5\n",
    "PAE2=3/7\n",
    "PE1A=(PE1*PAE1)/((PE1*PAE1)+(PE2*PAE2))\n",
    "print(PE1A)"
   ]
  },
  {
   "cell_type": "code",
   "execution_count": 5,
   "metadata": {},
   "outputs": [
    {
     "name": "stdout",
     "output_type": "stream",
     "text": [
      "0.2857142857142857\n"
     ]
    }
   ],
   "source": [
    "# Question 3\n",
    "PA=1/6\n",
    "PB=5/6\n",
    "PCA=2/3\n",
    "PCB=1/3\n",
    "PAC=(PA*PCA)/((PA*PCA)+(PB*PCB))\n",
    "print(PAC)"
   ]
  }
 ],
 "metadata": {
  "kernelspec": {
   "display_name": "Python 3",
   "language": "python",
   "name": "python3"
  },
  "language_info": {
   "codemirror_mode": {
    "name": "ipython",
    "version": 3
   },
   "file_extension": ".py",
   "mimetype": "text/x-python",
   "name": "python",
   "nbconvert_exporter": "python",
   "pygments_lexer": "ipython3",
   "version": "3.6.5rc1"
  }
 },
 "nbformat": 4,
 "nbformat_minor": 2
}
